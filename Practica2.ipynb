{
 "cells": [
  {
   "cell_type": "markdown",
   "metadata": {},
   "source": [
    "# Introducción\n",
    "\n",
    "En esta práctica vamos a repasar diferentes tests estadísticos. Para ello nos ayudamos de los datos publicados por BCSC:\n",
    "*NCI-funded Breast Cancer Surveillance Consortium (P01 CA154292 and HHSN261201100031C). Downloaded mm/dd/yyyy from the Breast Cancer Surveillance Consortium Web site - http://www.bcsc-research.org/data/index.html.*\n",
    "\n",
    "Concretamente a través de este enlace:\n",
    "http://www.bcsc-research.org/data/rf/app2/DownloadRequest.aspx\n",
    "\n",
    "\n",
    "El fichero *BCSC_risk_factors_summarized.csv* descargado lo teneis en la carpeta *data*.\n",
    "\n",
    "Ese fichero es un CSV, la descripción de cada columna se puede ver en la siguiente tabla:"
   ]
  },
  {
   "cell_type": "markdown",
   "metadata": {},
   "source": [
    "\n",
    "| Nombre de variable | Descripción | Código | \n",
    "|-|-|-|\n",
    "| year | Año de la observación | Numérico, 2000-2009 |\n",
    "| year_group_5_years| Edad (años) en grupos de 5 años |  1 = Edad 18-29;  2 = Edad 30-34; 3 = Edad 35-39; 4 = Edad 40-44; 5 = Edad 45-49; 6 = Edad 50-54; 7 = Edad 55-59; 8 = Edad 60-64; 9 = Edad 65-69; 10 = Edad 70-74; 11 = Edad 75-79; 12 = Edad 80-84; 13 = Edad ≥85 |\n",
    "| race_eth | Grupo étnico | 1 = Non-Hispanic white; 2 = Non-Hispanic black; 3 = Asian/Pacific Islander; 4 = Native American; 5 = Hispanic; 6 = Other/mixed; 9 = Desconocido |\n",
    "| first_degree_hx | Historial de cancer de un familiar de primer grado | 0 = No; 1 = Sí; 9 = Desconocido |\n",
    "| Edad_menarche | Edad (años) at menarche |0 = Edad ≥14; 1 = Edad 12-13; 2 = Edad <12; 9 = Desconocido\n",
    "| Edad_first_birth | Edad (años) at first birth | 0 = Edad < 20; 1 = Edad 20-24; 2 = Edad 25-29; 3 = Edad ≥30; 4 = Nulliparous; 9 = Desconocido |\n",
    "| BIRADS_breast_density | BI-RADS densidad del cancer de pecho| 1 = Almost entirely fat; 2 =Scattered fibroglandular densities; 3 = Heterogeneously dense; 4 = Extremely dense; 9 = Desconocido |\n",
    "| current_hrt | Uso de terapia de hormonas de reemplazo | 0 = No; 1 = Sí; 9 = Desconocido |\n",
    "| menopaus | Menopausal status | 1 = Pre- or peri-menopausal; 2 = Post-menopausal; 3 = Surgical menopause; 9 = Desconocido |\n",
    "| bmi_group |  Body mass index | 1 = 10-24.99; 2 = 25-29.99; 3 = 30-34.99; 4 = 35 or more; 9 = Desconocido |\n",
    "| biophx | Biopsia previa o aspiración | 0 = No; 1 = Sí; 9 = Desconocido |\n",
    "| breast_cancer_history | Cancer diagnosticado con anterioridad | 0 = No; 1 = Sí; 9 = Desconocido |\n",
    "| count | Número de ocurrencias de estas covariables | Numérico|\n",
    "\n",
    "\n"
   ]
  },
  {
   "cell_type": "markdown",
   "metadata": {},
   "source": [
    "Leemos los datos del csv y los adaptamos. Pasos a seguir:\n",
    "1. Replicamos las filas indicadas por la columna *count*\n",
    "2. Los datos son muy grandes, para agilizar la práctica nos quedamos con 5000 muestras elegidas con muestreo aleatorio simple. El resto se puede descartar.\n",
    "3. Se adapta el resto"
   ]
  },
  {
   "cell_type": "code",
   "execution_count": 1,
   "metadata": {},
   "outputs": [
    {
     "data": {
      "text/html": [
       "<table>\n",
       "<thead><tr><th scope=col>year</th><th scope=col>age_group_5_years</th><th scope=col>race_eth</th><th scope=col>first_degree_hx</th><th scope=col>age_menarche</th><th scope=col>age_first_birth</th><th scope=col>BIRADS_breast_density</th><th scope=col>current_hrt</th><th scope=col>menopaus</th><th scope=col>bmi_group</th><th scope=col>biophx</th><th scope=col>breast_cancer_history</th><th scope=col>count</th></tr></thead>\n",
       "<tbody>\n",
       "\t<tr><td>2000</td><td>1   </td><td>1   </td><td>0   </td><td>0   </td><td>0   </td><td>1   </td><td>0   </td><td>1   </td><td>3   </td><td>0   </td><td>0   </td><td>1   </td></tr>\n",
       "\t<tr><td>2000</td><td>1   </td><td>1   </td><td>0   </td><td>0   </td><td>1   </td><td>3   </td><td>0   </td><td>1   </td><td>2   </td><td>0   </td><td>0   </td><td>1   </td></tr>\n",
       "\t<tr><td>2000</td><td>1   </td><td>1   </td><td>0   </td><td>0   </td><td>1   </td><td>4   </td><td>0   </td><td>1   </td><td>1   </td><td>0   </td><td>0   </td><td>2   </td></tr>\n",
       "\t<tr><td>2000</td><td>1   </td><td>1   </td><td>0   </td><td>0   </td><td>2   </td><td>3   </td><td>0   </td><td>1   </td><td>1   </td><td>0   </td><td>0   </td><td>1   </td></tr>\n",
       "\t<tr><td>2000</td><td>1   </td><td>1   </td><td>0   </td><td>0   </td><td>2   </td><td>3   </td><td>0   </td><td>1   </td><td>1   </td><td>1   </td><td>9   </td><td>1   </td></tr>\n",
       "\t<tr><td>2000</td><td>1   </td><td>1   </td><td>0   </td><td>0   </td><td>4   </td><td>9   </td><td>0   </td><td>1   </td><td>1   </td><td>0   </td><td>0   </td><td>1   </td></tr>\n",
       "</tbody>\n",
       "</table>\n"
      ],
      "text/latex": [
       "\\begin{tabular}{r|lllllllllllll}\n",
       " year & age\\_group\\_5\\_years & race\\_eth & first\\_degree\\_hx & age\\_menarche & age\\_first\\_birth & BIRADS\\_breast\\_density & current\\_hrt & menopaus & bmi\\_group & biophx & breast\\_cancer\\_history & count\\\\\n",
       "\\hline\n",
       "\t 2000 & 1    & 1    & 0    & 0    & 0    & 1    & 0    & 1    & 3    & 0    & 0    & 1   \\\\\n",
       "\t 2000 & 1    & 1    & 0    & 0    & 1    & 3    & 0    & 1    & 2    & 0    & 0    & 1   \\\\\n",
       "\t 2000 & 1    & 1    & 0    & 0    & 1    & 4    & 0    & 1    & 1    & 0    & 0    & 2   \\\\\n",
       "\t 2000 & 1    & 1    & 0    & 0    & 2    & 3    & 0    & 1    & 1    & 0    & 0    & 1   \\\\\n",
       "\t 2000 & 1    & 1    & 0    & 0    & 2    & 3    & 0    & 1    & 1    & 1    & 9    & 1   \\\\\n",
       "\t 2000 & 1    & 1    & 0    & 0    & 4    & 9    & 0    & 1    & 1    & 0    & 0    & 1   \\\\\n",
       "\\end{tabular}\n"
      ],
      "text/markdown": [
       "\n",
       "year | age_group_5_years | race_eth | first_degree_hx | age_menarche | age_first_birth | BIRADS_breast_density | current_hrt | menopaus | bmi_group | biophx | breast_cancer_history | count | \n",
       "|---|---|---|---|---|---|\n",
       "| 2000 | 1    | 1    | 0    | 0    | 0    | 1    | 0    | 1    | 3    | 0    | 0    | 1    | \n",
       "| 2000 | 1    | 1    | 0    | 0    | 1    | 3    | 0    | 1    | 2    | 0    | 0    | 1    | \n",
       "| 2000 | 1    | 1    | 0    | 0    | 1    | 4    | 0    | 1    | 1    | 0    | 0    | 2    | \n",
       "| 2000 | 1    | 1    | 0    | 0    | 2    | 3    | 0    | 1    | 1    | 0    | 0    | 1    | \n",
       "| 2000 | 1    | 1    | 0    | 0    | 2    | 3    | 0    | 1    | 1    | 1    | 9    | 1    | \n",
       "| 2000 | 1    | 1    | 0    | 0    | 4    | 9    | 0    | 1    | 1    | 0    | 0    | 1    | \n",
       "\n",
       "\n"
      ],
      "text/plain": [
       "  year age_group_5_years race_eth first_degree_hx age_menarche age_first_birth\n",
       "1 2000 1                 1        0               0            0              \n",
       "2 2000 1                 1        0               0            1              \n",
       "3 2000 1                 1        0               0            1              \n",
       "4 2000 1                 1        0               0            2              \n",
       "5 2000 1                 1        0               0            2              \n",
       "6 2000 1                 1        0               0            4              \n",
       "  BIRADS_breast_density current_hrt menopaus bmi_group biophx\n",
       "1 1                     0           1        3         0     \n",
       "2 3                     0           1        2         0     \n",
       "3 4                     0           1        1         0     \n",
       "4 3                     0           1        1         0     \n",
       "5 3                     0           1        1         1     \n",
       "6 9                     0           1        1         0     \n",
       "  breast_cancer_history count\n",
       "1 0                     1    \n",
       "2 0                     1    \n",
       "3 0                     2    \n",
       "4 0                     1    \n",
       "5 9                     1    \n",
       "6 0                     1    "
      ]
     },
     "metadata": {},
     "output_type": "display_data"
    },
    {
     "data": {
      "text/html": [
       "1144564"
      ],
      "text/latex": [
       "1144564"
      ],
      "text/markdown": [
       "1144564"
      ],
      "text/plain": [
       "[1] 1144564"
      ]
     },
     "metadata": {},
     "output_type": "display_data"
    }
   ],
   "source": [
    "BCSCrfs<-read.csv(\"./datos/BCSC_risk_factors_summarized.csv\", sep = \",\")\n",
    "head(BCSCrfs)\n",
    "nrow(BCSCrfs)"
   ]
  },
  {
   "cell_type": "code",
   "execution_count": 2,
   "metadata": {},
   "outputs": [
    {
     "data": {
      "text/html": [
       "<table>\n",
       "<thead><tr><th></th><th scope=col>year</th><th scope=col>age_group_5_years</th><th scope=col>race_eth</th><th scope=col>first_degree_hx</th><th scope=col>age_menarche</th><th scope=col>age_first_birth</th><th scope=col>BIRADS_breast_density</th><th scope=col>current_hrt</th><th scope=col>menopaus</th><th scope=col>bmi_group</th><th scope=col>biophx</th><th scope=col>breast_cancer_history</th><th scope=col>count</th></tr></thead>\n",
       "<tbody>\n",
       "\t<tr><th scope=row>1</th><td>2000</td><td>1   </td><td>1   </td><td>0   </td><td>0   </td><td>0   </td><td>1   </td><td>0   </td><td>1   </td><td>3   </td><td>0   </td><td>0   </td><td>1   </td></tr>\n",
       "\t<tr><th scope=row>2</th><td>2000</td><td>1   </td><td>1   </td><td>0   </td><td>0   </td><td>1   </td><td>3   </td><td>0   </td><td>1   </td><td>2   </td><td>0   </td><td>0   </td><td>1   </td></tr>\n",
       "\t<tr><th scope=row>3</th><td>2000</td><td>1   </td><td>1   </td><td>0   </td><td>0   </td><td>1   </td><td>4   </td><td>0   </td><td>1   </td><td>1   </td><td>0   </td><td>0   </td><td>2   </td></tr>\n",
       "\t<tr><th scope=row>3.1</th><td>2000</td><td>1   </td><td>1   </td><td>0   </td><td>0   </td><td>1   </td><td>4   </td><td>0   </td><td>1   </td><td>1   </td><td>0   </td><td>0   </td><td>2   </td></tr>\n",
       "\t<tr><th scope=row>4</th><td>2000</td><td>1   </td><td>1   </td><td>0   </td><td>0   </td><td>2   </td><td>3   </td><td>0   </td><td>1   </td><td>1   </td><td>0   </td><td>0   </td><td>1   </td></tr>\n",
       "\t<tr><th scope=row>5</th><td>2000</td><td>1   </td><td>1   </td><td>0   </td><td>0   </td><td>2   </td><td>3   </td><td>0   </td><td>1   </td><td>1   </td><td>1   </td><td>9   </td><td>1   </td></tr>\n",
       "</tbody>\n",
       "</table>\n"
      ],
      "text/latex": [
       "\\begin{tabular}{r|lllllllllllll}\n",
       "  & year & age\\_group\\_5\\_years & race\\_eth & first\\_degree\\_hx & age\\_menarche & age\\_first\\_birth & BIRADS\\_breast\\_density & current\\_hrt & menopaus & bmi\\_group & biophx & breast\\_cancer\\_history & count\\\\\n",
       "\\hline\n",
       "\t1 & 2000 & 1    & 1    & 0    & 0    & 0    & 1    & 0    & 1    & 3    & 0    & 0    & 1   \\\\\n",
       "\t2 & 2000 & 1    & 1    & 0    & 0    & 1    & 3    & 0    & 1    & 2    & 0    & 0    & 1   \\\\\n",
       "\t3 & 2000 & 1    & 1    & 0    & 0    & 1    & 4    & 0    & 1    & 1    & 0    & 0    & 2   \\\\\n",
       "\t3.1 & 2000 & 1    & 1    & 0    & 0    & 1    & 4    & 0    & 1    & 1    & 0    & 0    & 2   \\\\\n",
       "\t4 & 2000 & 1    & 1    & 0    & 0    & 2    & 3    & 0    & 1    & 1    & 0    & 0    & 1   \\\\\n",
       "\t5 & 2000 & 1    & 1    & 0    & 0    & 2    & 3    & 0    & 1    & 1    & 1    & 9    & 1   \\\\\n",
       "\\end{tabular}\n"
      ],
      "text/markdown": [
       "\n",
       "| <!--/--> | year | age_group_5_years | race_eth | first_degree_hx | age_menarche | age_first_birth | BIRADS_breast_density | current_hrt | menopaus | bmi_group | biophx | breast_cancer_history | count | \n",
       "|---|---|---|---|---|---|\n",
       "| 1 | 2000 | 1    | 1    | 0    | 0    | 0    | 1    | 0    | 1    | 3    | 0    | 0    | 1    | \n",
       "| 2 | 2000 | 1    | 1    | 0    | 0    | 1    | 3    | 0    | 1    | 2    | 0    | 0    | 1    | \n",
       "| 3 | 2000 | 1    | 1    | 0    | 0    | 1    | 4    | 0    | 1    | 1    | 0    | 0    | 2    | \n",
       "| 3.1 | 2000 | 1    | 1    | 0    | 0    | 1    | 4    | 0    | 1    | 1    | 0    | 0    | 2    | \n",
       "| 4 | 2000 | 1    | 1    | 0    | 0    | 2    | 3    | 0    | 1    | 1    | 0    | 0    | 1    | \n",
       "| 5 | 2000 | 1    | 1    | 0    | 0    | 2    | 3    | 0    | 1    | 1    | 1    | 9    | 1    | \n",
       "\n",
       "\n"
      ],
      "text/plain": [
       "    year age_group_5_years race_eth first_degree_hx age_menarche\n",
       "1   2000 1                 1        0               0           \n",
       "2   2000 1                 1        0               0           \n",
       "3   2000 1                 1        0               0           \n",
       "3.1 2000 1                 1        0               0           \n",
       "4   2000 1                 1        0               0           \n",
       "5   2000 1                 1        0               0           \n",
       "    age_first_birth BIRADS_breast_density current_hrt menopaus bmi_group biophx\n",
       "1   0               1                     0           1        3         0     \n",
       "2   1               3                     0           1        2         0     \n",
       "3   1               4                     0           1        1         0     \n",
       "3.1 1               4                     0           1        1         0     \n",
       "4   2               3                     0           1        1         0     \n",
       "5   2               3                     0           1        1         1     \n",
       "    breast_cancer_history count\n",
       "1   0                     1    \n",
       "2   0                     1    \n",
       "3   0                     2    \n",
       "3.1 0                     2    \n",
       "4   0                     1    \n",
       "5   9                     1    "
      ]
     },
     "metadata": {},
     "output_type": "display_data"
    },
    {
     "data": {
      "text/html": [
       "6318638"
      ],
      "text/latex": [
       "6318638"
      ],
      "text/markdown": [
       "6318638"
      ],
      "text/plain": [
       "[1] 6318638"
      ]
     },
     "metadata": {},
     "output_type": "display_data"
    }
   ],
   "source": [
    "BCSCrfs1 <- BCSCrfs[rep(row.names(BCSCrfs), BCSCrfs$count), ]\n",
    "head(BCSCrfs1)\n",
    "nrow(BCSCrfs1)"
   ]
  },
  {
   "cell_type": "markdown",
   "metadata": {},
   "source": [
    "El número de filas tras replicar las filas indicadas por la columna *count* es de 6318638. Como este número es muy alto para la máquina virtual que tenemos vamos a realizar una muestreo aleatorio simple y nos quedaremos con 5000 filas. El resto se descartan.\n",
    "\n",
    "*Nota:*Para el muestreo usad la semilla 12345, de esta forma todos tendresmos exactamente los mismos resultados."
   ]
  },
  {
   "cell_type": "code",
   "execution_count": 3,
   "metadata": {},
   "outputs": [
    {
     "data": {
      "text/html": [
       "5000"
      ],
      "text/latex": [
       "5000"
      ],
      "text/markdown": [
       "5000"
      ],
      "text/plain": [
       "[1] 5000"
      ]
     },
     "metadata": {},
     "output_type": "display_data"
    }
   ],
   "source": [
    "#Definimos una semilla común para todos:\n",
    "set.seed(12345)\n",
    "#Utiliza muestreo aleatorio simple para quedarnos con 5000 muestras:\n",
    "BCSCrfs2<-BCSCrfs1[sample(1:nrow(BCSCrfs1), 5000 ), ]\n",
    "nrow(BCSCrfs2)"
   ]
  },
  {
   "cell_type": "markdown",
   "metadata": {},
   "source": [
    "Formatear el dataframe:\n",
    "* Cambiamos los *Desconocido* por NA en las columnas \"race_eth\", \"first_degree_hx\", \"age_menarche\", \"age_first_birth\", \"BIRADS_breast_density\", \"current_hrt\", \"menopaus\", \"bmi_group\", \"biophx\", \"breast_cancer_history\"\n",
    "* Convertimos a factores las columnas que vamos a necesitar"
   ]
  },
  {
   "cell_type": "code",
   "execution_count": 4,
   "metadata": {},
   "outputs": [],
   "source": [
    "BCSCrfs2[,3:12][BCSCrfs2[,3:12] == 9]<-NA\n",
    "#str(BCSCrfs2)"
   ]
  },
  {
   "cell_type": "markdown",
   "metadata": {},
   "source": [
    "#### Edad y Antecedentes familiares"
   ]
  },
  {
   "cell_type": "markdown",
   "metadata": {},
   "source": [
    "Creamos una nueva columna con la edad estimada para un posterior análisis"
   ]
  },
  {
   "cell_type": "markdown",
   "metadata": {},
   "source": [
    "Representa en un diagrama de cajas cómo varía la **edad de aparición del cancer** en función de si ha habido **antecedentes familiares** o no.\n",
    "Ayuda:\n",
    "- Hay que crear una nueva columna con la edad estimada de cada rango."
   ]
  },
  {
   "cell_type": "code",
   "execution_count": 5,
   "metadata": {},
   "outputs": [],
   "source": [
    "BCSCrfs2$ed_est<-0\n",
    "\n",
    "ed_est1<-which(BCSCrfs2$age_group_5_years==1)\n",
    "BCSCrfs2[ed_est1,]$ed_est<-mean(18:29)\n",
    "\n",
    "ed_est2<-which(BCSCrfs2$age_group_5_years==2)\n",
    "BCSCrfs2[ed_est2,]$ed_est<-mean(30:34)\n",
    "\n",
    "ed_est3<-which(BCSCrfs2$age_group_5_years==3)\n",
    "BCSCrfs2[ed_est3,]$ed_est<-mean(35:39)\n",
    "\n",
    "ed_est4<-which(BCSCrfs2$age_group_5_years==4)\n",
    "BCSCrfs2[ed_est4,]$ed_est<-mean(40:44)\n",
    "\n",
    "ed_est5<-which(BCSCrfs2$age_group_5_years==5)\n",
    "BCSCrfs2[ed_est5,]$ed_est<-mean(45:49)\n",
    "\n",
    "ed_est6<-which(BCSCrfs2$age_group_5_years==6)\n",
    "BCSCrfs2[ed_est6,]$ed_est<-mean(50:54)\n",
    "\n",
    "ed_est7<-which(BCSCrfs2$age_group_5_years==7)\n",
    "BCSCrfs2[ed_est7,]$ed_est<-mean(55:59)\n",
    "\n",
    "ed_est8<-which(BCSCrfs2$age_group_5_years==8)\n",
    "BCSCrfs2[ed_est8,]$ed_est<-mean(60:64)\n",
    "\n",
    "ed_est9<-which(BCSCrfs2$age_group_5_years==9)\n",
    "BCSCrfs2[ed_est9,]$ed_est<-mean(65:69)\n",
    "\n",
    "ed_est10<-which(BCSCrfs2$age_group_5_years==10)\n",
    "BCSCrfs2[ed_est10,]$ed_est<-mean(70:74)\n",
    "\n",
    "ed_est11<-which(BCSCrfs2$age_group_5_years==11)\n",
    "BCSCrfs2[ed_est11,]$ed_est<-mean(75:79)\n",
    "\n",
    "ed_est12<-which(BCSCrfs2$age_group_5_years==12)\n",
    "BCSCrfs2[ed_est12,]$ed_est<-mean(80:84)\n",
    "\n",
    "ed_est13<-which(BCSCrfs2$age_group_5_years==13)\n",
    "BCSCrfs2[ed_est13,]$ed_est<-mean(85:102)"
   ]
  },
  {
   "cell_type": "code",
   "execution_count": 6,
   "metadata": {},
   "outputs": [
    {
     "data": {},
     "metadata": {},
     "output_type": "display_data"
    },
    {
     "data": {
      "image/png": "[encoded data removed]",
      "text/plain": [
       "plot without title"
      ]
     },
     "metadata": {},
     "output_type": "display_data"
    }
   ],
   "source": [
    "BCSCrfs3<-BCSCrfs2[,c('ed_est','first_degree_hx')]\n",
    "BCSCrfs4<-BCSCrfs3[(complete.cases(BCSCrfs3[,'first_degree_hx'])),]\n",
    "BCSCrfs4$first_degree_hx<-factor(BCSCrfs4$first_degree_hx)\n",
    "library(ggplot2)\n",
    "ggplot(data=BCSCrfs4,aes(x=first_degree_hx,y=ed_est,color=first_degree_hx))+geom_boxplot()"
   ]
  },
  {
   "cell_type": "markdown",
   "metadata": {},
   "source": [
    "¿Existe una diferencia estadística significativa entre la edad de aparición del cancer y si hay antecedentes familiares? ¿Que test usarías para comprobarlo?"
   ]
  },
  {
   "cell_type": "markdown",
   "metadata": {},
   "source": [
    "- El test de Shapiro comprueba si las distribuciones se asemejan a una gaussiana."
   ]
  },
  {
   "cell_type": "code",
   "execution_count": 7,
   "metadata": {},
   "outputs": [
    {
     "data": {
      "text/html": [
       "'Historial de cancer de un familiar de primer grado positivo (1)'"
      ],
      "text/latex": [
       "'Historial de cancer de un familiar de primer grado positivo (1)'"
      ],
      "text/markdown": [
       "'Historial de cancer de un familiar de primer grado positivo (1)'"
      ],
      "text/plain": [
       "[1] \"Historial de cancer de un familiar de primer grado positivo (1)\""
      ]
     },
     "metadata": {},
     "output_type": "display_data"
    },
    {
     "data": {
      "text/plain": [
       "\n",
       "\tShapiro-Wilk normality test\n",
       "\n",
       "data:  BCSCrfs4[(BCSCrfs4$first_degree_hx == 1), ]$ed_est\n",
       "W = 0.96545, p-value = 3.54e-12\n"
      ]
     },
     "metadata": {},
     "output_type": "display_data"
    },
    {
     "data": {
      "text/html": [
       "'Historial de cancer de un familiar de primer grado negativo (0)'"
      ],
      "text/latex": [
       "'Historial de cancer de un familiar de primer grado negativo (0)'"
      ],
      "text/markdown": [
       "'Historial de cancer de un familiar de primer grado negativo (0)'"
      ],
      "text/plain": [
       "[1] \"Historial de cancer de un familiar de primer grado negativo (0)\""
      ]
     },
     "metadata": {},
     "output_type": "display_data"
    },
    {
     "data": {
      "text/plain": [
       "\n",
       "\tShapiro-Wilk normality test\n",
       "\n",
       "data:  BCSCrfs4[(BCSCrfs4$first_degree_hx == 0), ]$ed_est\n",
       "W = 0.95757, p-value < 2.2e-16\n"
      ]
     },
     "metadata": {},
     "output_type": "display_data"
    }
   ],
   "source": [
    "sprintf(\"Historial de cancer de un familiar de primer grado positivo (1)\")\n",
    "shapiro.test(BCSCrfs4[(BCSCrfs4$first_degree_hx == 1),]$ed_est)\n",
    "sprintf(\"Historial de cancer de un familiar de primer grado negativo (0)\")\n",
    "shapiro.test(BCSCrfs4[(BCSCrfs4$first_degree_hx == 0),]$ed_est)"
   ]
  },
  {
   "cell_type": "markdown",
   "metadata": {},
   "source": [
    "- p-valores muy bajos en ambos casos\n",
    "- rechazamos la hipótesis nula\n",
    "- conclusión: las medias de ambos conjuntos son diferentes\n",
    "- se descarta utilizar una gaussiana\n",
    "- utilizaremos el test de Wilcoxon-Mann-Whitney"
   ]
  },
  {
   "cell_type": "code",
   "execution_count": 8,
   "metadata": {},
   "outputs": [
    {
     "data": {
      "text/plain": [
       "\n",
       "\tWilcoxon rank sum test with continuity correction\n",
       "\n",
       "data:  ed_est by first_degree_hx\n",
       "W = 1239200, p-value = 2.339e-06\n",
       "alternative hypothesis: true location shift is not equal to 0\n"
      ]
     },
     "metadata": {},
     "output_type": "display_data"
    }
   ],
   "source": [
    "wilcox.test(ed_est ~ first_degree_hx, data=BCSCrfs4)"
   ]
  },
  {
   "cell_type": "markdown",
   "metadata": {},
   "source": [
    "- p-valor muy bajo\n",
    "- rechazamos la hipótesis nula (las distribuciones son iguales)\n",
    "- conclusión: la edad de aparición de cancer es dependiente de los antecedentes familiares"
   ]
  },
  {
   "cell_type": "markdown",
   "metadata": {},
   "source": [
    "Dibuja la curva de densidad de probabilidad de cómo varía la edad de aparición del cancer en función de si ha habido antecedentes familiares o no."
   ]
  },
  {
   "cell_type": "code",
   "execution_count": 9,
   "metadata": {},
   "outputs": [
    {
     "data": {},
     "metadata": {},
     "output_type": "display_data"
    },
    {
     "data": {
      "image/png": "[encoded data removed]",
      "text/plain": [
       "plot without title"
      ]
     },
     "metadata": {},
     "output_type": "display_data"
    }
   ],
   "source": [
    "ggplot(data=BCSCrfs4,aes(x=ed_est,group=first_degree_hx,color=first_degree_hx))+\n",
    "        geom_density()"
   ]
  },
  {
   "cell_type": "markdown",
   "metadata": {},
   "source": [
    "#### Edad y BIRADS"
   ]
  },
  {
   "cell_type": "markdown",
   "metadata": {},
   "source": [
    "Representa en un diagrama de cajas cómo varía la edad de aparición del cancer en función de la densidad del cancder (BIRADS)."
   ]
  },
  {
   "cell_type": "code",
   "execution_count": 10,
   "metadata": {},
   "outputs": [
    {
     "data": {},
     "metadata": {},
     "output_type": "display_data"
    },
    {
     "data": {
      "image/png": "[encoded data removed]",
      "text/plain": [
       "plot without title"
      ]
     },
     "metadata": {},
     "output_type": "display_data"
    }
   ],
   "source": [
    "BCSCrfs2$BIRADS_breast_density<-as.factor(BCSCrfs2$BIRADS_breast_density)\n",
    "BCSCrfs5<-BCSCrfs2[(complete.cases(BCSCrfs2[,'BIRADS_breast_density'])),]\n",
    "ggplot(data=BCSCrfs5,aes(x=BIRADS_breast_density,y=ed_est,color=BIRADS_breast_density))+geom_boxplot()"
   ]
  },
  {
   "cell_type": "markdown",
   "metadata": {},
   "source": [
    "¿Existe una evidencia estadística significativa para decir que la edad en la que se detecta el cancer depende de la densidad del cancer (BIRADS)?\n",
    "\n",
    "¿Que test habría que aplicar?"
   ]
  },
  {
   "cell_type": "markdown",
   "metadata": {},
   "source": [
    "Al igual que en el caso anterior utilizamos el test de shapiro para contrastar la normalidad del conjunto de datos"
   ]
  },
  {
   "cell_type": "code",
   "execution_count": 11,
   "metadata": {},
   "outputs": [
    {
     "data": {
      "text/plain": [
       "\n",
       "\tShapiro-Wilk normality test\n",
       "\n",
       "data:  BCSCrfs2[BCSCrfs2$BIRADS_breast_density == 1, ]$ed_est\n",
       "W = 0.97436, p-value = 3.7e-05\n"
      ]
     },
     "metadata": {},
     "output_type": "display_data"
    },
    {
     "data": {
      "text/plain": [
       "\n",
       "\tShapiro-Wilk normality test\n",
       "\n",
       "data:  BCSCrfs2[BCSCrfs2$BIRADS_breast_density == 2, ]$ed_est\n",
       "W = 0.96188, p-value < 2.2e-16\n"
      ]
     },
     "metadata": {},
     "output_type": "display_data"
    },
    {
     "data": {
      "text/plain": [
       "\n",
       "\tShapiro-Wilk normality test\n",
       "\n",
       "data:  BCSCrfs2[BCSCrfs2$BIRADS_breast_density == 3, ]$ed_est\n",
       "W = 0.94995, p-value < 2.2e-16\n"
      ]
     },
     "metadata": {},
     "output_type": "display_data"
    },
    {
     "data": {
      "text/plain": [
       "\n",
       "\tShapiro-Wilk normality test\n",
       "\n",
       "data:  BCSCrfs2[BCSCrfs2$BIRADS_breast_density == 4, ]$ed_est\n",
       "W = 0.93027, p-value = 1.27e-09\n"
      ]
     },
     "metadata": {},
     "output_type": "display_data"
    }
   ],
   "source": [
    "shapiro.test(BCSCrfs2[BCSCrfs2$BIRADS_breast_density==1,]$ed_est)\n",
    "shapiro.test(BCSCrfs2[BCSCrfs2$BIRADS_breast_density==2,]$ed_est)\n",
    "shapiro.test(BCSCrfs2[BCSCrfs2$BIRADS_breast_density==3,]$ed_est)\n",
    "shapiro.test(BCSCrfs2[BCSCrfs2$BIRADS_breast_density==4,]$ed_est)"
   ]
  },
  {
   "cell_type": "markdown",
   "metadata": {},
   "source": [
    "- p-valores muy bajos en todos los casos\n",
    "- rechazamos la hipótesis nula\n",
    "- conclusión: las medias de ambos conjuntos son diferentes\n",
    "- se descarta utilizar una gaussiana\n",
    "- utilizaremos el test de Kruskal-Wallis"
   ]
  },
  {
   "cell_type": "code",
   "execution_count": 12,
   "metadata": {},
   "outputs": [
    {
     "data": {
      "text/plain": [
       "\n",
       "\tKruskal-Wallis rank sum test\n",
       "\n",
       "data:  ed_est by BIRADS_breast_density\n",
       "Kruskal-Wallis chi-squared = 156.19, df = 3, p-value < 2.2e-16\n"
      ]
     },
     "metadata": {},
     "output_type": "display_data"
    }
   ],
   "source": [
    "kruskal.test( ed_est ~ BIRADS_breast_density, data=BCSCrfs2)"
   ]
  },
  {
   "cell_type": "markdown",
   "metadata": {},
   "source": [
    "- el p-valor es realmente bajo\n",
    "- rechazamos la hipótesis nula\n",
    "- conclusión: la edad de aparición del cáncer varía en función de la densidad del cancer (BIRADS)"
   ]
  },
  {
   "cell_type": "markdown",
   "metadata": {},
   "source": [
    "#### Tablas de contingencia: BIRADS"
   ]
  },
  {
   "cell_type": "markdown",
   "metadata": {},
   "source": [
    "¿Todos los  tipos de cancer (BIRADS) son igual de probables? ¿Con que test lo comprobarías?"
   ]
  },
  {
   "cell_type": "code",
   "execution_count": 13,
   "metadata": {},
   "outputs": [
    {
     "data": {
      "text/plain": [
       "\n",
       "\tChi-squared test for given probabilities\n",
       "\n",
       "data:  table(BCSCrfs2$BIRADS_breast_density)\n",
       "X-squared = 1816.3, df = 3, p-value < 2.2e-16\n"
      ]
     },
     "metadata": {},
     "output_type": "display_data"
    }
   ],
   "source": [
    "chisq.test(table(BCSCrfs2$BIRADS_breast_density))"
   ]
  },
  {
   "cell_type": "markdown",
   "metadata": {},
   "source": [
    "- Utilizamos una Chi-cuadrado\n",
    "- p-valor muy bajo\n",
    "- rechazamos la hipótesis nula\n",
    "- Conclusión: NO todos los tipos de cancer tienen la misma probabilidad"
   ]
  },
  {
   "cell_type": "markdown",
   "metadata": {},
   "source": [
    "¿Cual es el tipo de cancer (BIRADS) más común? ¿Con qué proporción?"
   ]
  },
  {
   "cell_type": "code",
   "execution_count": 14,
   "metadata": {},
   "outputs": [
    {
     "data": {
      "text/html": [
       "<strong>2:</strong> 2"
      ],
      "text/latex": [
       "\\textbf{2:} 2"
      ],
      "text/markdown": [
       "**2:** 2"
      ],
      "text/plain": [
       "2 \n",
       "2 "
      ]
     },
     "metadata": {},
     "output_type": "display_data"
    }
   ],
   "source": [
    "which.max(table(BCSCrfs2$BIRADS_breast_density))"
   ]
  },
  {
   "cell_type": "code",
   "execution_count": 15,
   "metadata": {},
   "outputs": [
    {
     "data": {
      "text/plain": [
       "\n",
       "         1          2          3          4 \n",
       "0.08094849 0.45380213 0.39547561 0.06977378 "
      ]
     },
     "metadata": {},
     "output_type": "display_data"
    }
   ],
   "source": [
    "prop.table(table(BCSCrfs2$BIRADS_breast_density))"
   ]
  },
  {
   "cell_type": "markdown",
   "metadata": {},
   "source": [
    "- El más común es el 2\n",
    "- 45,38%"
   ]
  },
  {
   "cell_type": "markdown",
   "metadata": {},
   "source": [
    "¿Depende el tipo de cancer (BIRADS) de si ha habido o no antecedentes familiares?"
   ]
  },
  {
   "cell_type": "code",
   "execution_count": 16,
   "metadata": {},
   "outputs": [
    {
     "data": {
      "text/plain": [
       "\n",
       "\tPearson's Chi-squared test\n",
       "\n",
       "data:  table(BCSCrfs2$first_degree_hx, BCSCrfs2$BIRADS_breast_density)\n",
       "X-squared = 4.2475, df = 3, p-value = 0.236\n"
      ]
     },
     "metadata": {},
     "output_type": "display_data"
    }
   ],
   "source": [
    "chisq.test(table(BCSCrfs2$first_degree_hx,BCSCrfs2$BIRADS_breast_density))"
   ]
  },
  {
   "cell_type": "markdown",
   "metadata": {},
   "source": [
    "- p-value alto\n",
    "- se acepta la hipótesis cero\n",
    "- Conclusión: si hay una dependencia entre las variables"
   ]
  },
  {
   "cell_type": "markdown",
   "metadata": {},
   "source": [
    "¿Depende el tipo de cancer BIRADS del grupo étnico?"
   ]
  },
  {
   "cell_type": "code",
   "execution_count": 17,
   "metadata": {},
   "outputs": [
    {
     "data": {
      "text/plain": [
       "\n",
       "\tPearson's Chi-squared test with simulated p-value (based on 2000\n",
       "\treplicates)\n",
       "\n",
       "data:  table(BCSCrfs2$race_eth, BCSCrfs2$BIRADS_breast_density)\n",
       "X-squared = 48.684, df = NA, p-value = 0.0004998\n"
      ]
     },
     "metadata": {},
     "output_type": "display_data"
    }
   ],
   "source": [
    "chisq.test(table(BCSCrfs2$race_eth,BCSCrfs2$BIRADS_breast_density),simulate.p.value = T)"
   ]
  },
  {
   "cell_type": "markdown",
   "metadata": {},
   "source": [
    "- p-value bajo\n",
    "- no aceptamos la hipótesis nula\n",
    "- Conclusión: no hay dependencia entre ambas variables"
   ]
  },
  {
   "cell_type": "markdown",
   "metadata": {},
   "source": [
    "¿Cual es la probabilidad (con su margen de error del 95%) de que un *Native American* tenga un cancer de tipo *Almost entirely fat*?\n",
    "\n",
    "*Aviso*: Cuidado con los NA"
   ]
  },
  {
   "cell_type": "code",
   "execution_count": 21,
   "metadata": {},
   "outputs": [
    {
     "data": {
      "text/plain": [
       "   \n",
       "       1    2    3    4\n",
       "  1  204 1208 1021  179\n",
       "  2   23  100   92   11\n",
       "  3   11   51   85   29\n",
       "  4    1    7    6    3\n",
       "  5   26   98   94   11\n",
       "  6    2   19   15    3"
      ]
     },
     "metadata": {},
     "output_type": "display_data"
    },
    {
     "data": {
      "text/html": [
       "3299"
      ],
      "text/latex": [
       "3299"
      ],
      "text/markdown": [
       "3299"
      ],
      "text/plain": [
       "[1] 3299"
      ]
     },
     "metadata": {},
     "output_type": "display_data"
    }
   ],
   "source": [
    "table(BCSCrfs2$race_eth,BCSCrfs2$BIRADS_breast_density)#[4,1]\n",
    "sum(table(BCSCrfs2$race_eth,BCSCrfs2$BIRADS_breast_density))"
   ]
  },
  {
   "cell_type": "code",
   "execution_count": 18,
   "metadata": {},
   "outputs": [
    {
     "data": {
      "text/plain": [
       "\n",
       "\tExact binomial test\n",
       "\n",
       "data:  table(BCSCrfs2$race_eth, BCSCrfs2$BIRADS_breast_density)[4, 1] and sum(table(BCSCrfs2$race_eth, BCSCrfs2$BIRADS_breast_density))\n",
       "number of successes = 1, number of trials = 3299, p-value < 2.2e-16\n",
       "alternative hypothesis: true probability of success is not equal to 0.5\n",
       "95 percent confidence interval:\n",
       " 7.674359e-06 1.687719e-03\n",
       "sample estimates:\n",
       "probability of success \n",
       "          0.0003031222 \n"
      ]
     },
     "metadata": {},
     "output_type": "display_data"
    }
   ],
   "source": [
    "binom.test(table(BCSCrfs2$race_eth,BCSCrfs2$BIRADS_breast_density)[4,1],sum(table(BCSCrfs2$race_eth,BCSCrfs2$BIRADS_breast_density)))"
   ]
  },
  {
   "cell_type": "markdown",
   "metadata": {},
   "source": [
    "- race_eth: Native American = 4 \n",
    "- BIRADS_breast_density: Almost entirely fat = 1\n",
    "- binom.test: Lleva a cabo un contraste exacto (no aproximado) sobre el valor de la probabilidad de éxito en un experimento de Bernoulli\n",
    "- 95 percent confidence interval: (7.674359e-06 - 1.687719e-03)\n",
    "- probabilidad de que un Native American tenga un cancer de tipo Almost entirely fat = 0.0003031222"
   ]
  },
  {
   "cell_type": "code",
   "execution_count": null,
   "metadata": {},
   "outputs": [],
   "source": []
  }
 ],
 "metadata": {
  "kernelspec": {
   "display_name": "R",
   "language": "R",
   "name": "ir"
  },
  "language_info": {
   "codemirror_mode": "r",
   "file_extension": ".r",
   "mimetype": "text/x-r-source",
   "name": "R",
   "pygments_lexer": "r",
   "version": "3.4.3"
  }
 },
 "nbformat": 4,
 "nbformat_minor": 1
}
